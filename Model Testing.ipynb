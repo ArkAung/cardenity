{
 "cells": [
  {
   "cell_type": "code",
   "execution_count": 1,
   "metadata": {},
   "outputs": [],
   "source": [
    "%load_ext autoreload\n",
    "%autoreload 2\n",
    "%matplotlib inline"
   ]
  },
  {
   "cell_type": "code",
   "execution_count": 2,
   "metadata": {},
   "outputs": [],
   "source": [
    "from model import Model\n",
    "from dataloader import databunch_from_csv\n",
    "from utils import threshold_predictions, check_acc\n",
    "from fastai.vision import models, DatasetType\n",
    "import constants\n",
    "import pandas as pd"
   ]
  },
  {
   "cell_type": "code",
   "execution_count": 3,
   "metadata": {},
   "outputs": [],
   "source": [
    "label_file = 'train_tags_combined.csv'"
   ]
  },
  {
   "cell_type": "markdown",
   "metadata": {},
   "source": [
    "## Loading previously saved model"
   ]
  },
  {
   "cell_type": "code",
   "execution_count": 4,
   "metadata": {},
   "outputs": [],
   "source": [
    "data = databunch_from_csv(csv_name=label_file, path=constants.dataset_folder,\n",
    "                          img_size=constants.initial_dimension, vertical_flip=False,\n",
    "                          batch_size=constants.batch_size)\n",
    "class_names = data.classes\n",
    "learn = Model(threshold=0.5, databunch=data, arch=models.resnet50, load_model_name='cars_model_stage2')"
   ]
  },
  {
   "cell_type": "markdown",
   "metadata": {},
   "source": [
    "## Testing"
   ]
  },
  {
   "cell_type": "code",
   "execution_count": 5,
   "metadata": {},
   "outputs": [],
   "source": [
    "test_data = pd.read_csv('datasets/test_tags.csv')"
   ]
  },
  {
   "cell_type": "code",
   "execution_count": 6,
   "metadata": {},
   "outputs": [],
   "source": [
    "test_items = ['{}/{}'.format(constants.dataset_folder, x) for x in test_data['image_name'].values]\n",
    "test_labels = test_data['sep_tags'].values"
   ]
  },
  {
   "cell_type": "code",
   "execution_count": 7,
   "metadata": {},
   "outputs": [],
   "source": [
    "data.add_test(test_items, test_labels)\n",
    "preds, y = learn.learn.get_preds(ds_type=DatasetType.Test)\n",
    "thresh_preds = threshold_predictions(preds, class_names, prediction_threshold=0.2)"
   ]
  },
  {
   "cell_type": "code",
   "execution_count": 11,
   "metadata": {},
   "outputs": [
    {
     "name": "stdout",
     "output_type": "stream",
     "text": [
      "Accuracy on test set: 54.17 %\n"
     ]
    }
   ],
   "source": [
    "print(\"Accuracy on test set: {:.2f} %\".format(check_acc(test_labels, thresh_preds)*100))"
   ]
  }
 ],
 "metadata": {
  "kernelspec": {
   "display_name": "Python 3",
   "language": "python",
   "name": "python3"
  },
  "language_info": {
   "codemirror_mode": {
    "name": "ipython",
    "version": 3
   },
   "file_extension": ".py",
   "mimetype": "text/x-python",
   "name": "python",
   "nbconvert_exporter": "python",
   "pygments_lexer": "ipython3",
   "version": "3.6.8"
  }
 },
 "nbformat": 4,
 "nbformat_minor": 2
}
